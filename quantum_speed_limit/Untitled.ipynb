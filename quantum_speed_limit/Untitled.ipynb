{
 "cells": [
  {
   "cell_type": "code",
   "execution_count": 2,
   "id": "a72c82f3",
   "metadata": {},
   "outputs": [
    {
     "name": "stdout",
     "output_type": "stream",
     "text": [
      "Collecting qiskit\n",
      "  Downloading qiskit-0.39.5.tar.gz (14 kB)\n",
      "Collecting qiskit-terra==0.22.4\n",
      "  Downloading qiskit_terra-0.22.4-cp39-cp39-win_amd64.whl (4.3 MB)\n",
      "Collecting qiskit-aer==0.11.2\n",
      "  Downloading qiskit_aer-0.11.2-cp39-cp39-win_amd64.whl (9.6 MB)\n",
      "Collecting qiskit-ibmq-provider==0.19.2\n",
      "  Using cached qiskit_ibmq_provider-0.19.2-py3-none-any.whl (240 kB)\n",
      "Requirement already satisfied: numpy>=1.16.3 in c:\\users\\stephen\\anaconda3\\lib\\site-packages (from qiskit-aer==0.11.2->qiskit) (1.21.5)\n",
      "Requirement already satisfied: scipy>=1.0 in c:\\users\\stephen\\anaconda3\\lib\\site-packages (from qiskit-aer==0.11.2->qiskit) (1.7.3)\n",
      "Requirement already satisfied: requests>=2.19 in c:\\users\\stephen\\anaconda3\\lib\\site-packages (from qiskit-ibmq-provider==0.19.2->qiskit) (2.27.1)\n",
      "Collecting websocket-client>=1.0.1\n",
      "  Downloading websocket_client-1.4.2-py3-none-any.whl (55 kB)\n",
      "Collecting requests-ntlm>=1.1.0\n",
      "  Using cached requests_ntlm-1.1.0-py2.py3-none-any.whl (5.7 kB)\n",
      "Requirement already satisfied: urllib3>=1.21.1 in c:\\users\\stephen\\anaconda3\\lib\\site-packages (from qiskit-ibmq-provider==0.19.2->qiskit) (1.26.9)\n",
      "Collecting websockets>=10.0\n",
      "  Downloading websockets-10.4-cp39-cp39-win_amd64.whl (101 kB)\n",
      "Requirement already satisfied: python-dateutil>=2.8.0 in c:\\users\\stephen\\anaconda3\\lib\\site-packages (from qiskit-ibmq-provider==0.19.2->qiskit) (2.8.2)\n",
      "Requirement already satisfied: retworkx>=0.11.0 in c:\\users\\stephen\\anaconda3\\lib\\site-packages (from qiskit-terra==0.22.4->qiskit) (0.12.0)\n",
      "Collecting tweedledum<2.0,>=1.1\n",
      "  Using cached tweedledum-1.1.1-cp39-cp39-win_amd64.whl (1.1 MB)\n",
      "Collecting ply>=3.10\n",
      "  Using cached ply-3.11-py2.py3-none-any.whl (49 kB)\n",
      "Collecting stevedore>=3.0.0\n",
      "  Downloading stevedore-4.1.1-py3-none-any.whl (50 kB)\n",
      "Requirement already satisfied: psutil>=5 in c:\\users\\stephen\\anaconda3\\lib\\site-packages (from qiskit-terra==0.22.4->qiskit) (5.8.0)\n",
      "Collecting dill>=0.3\n",
      "  Using cached dill-0.3.6-py3-none-any.whl (110 kB)\n",
      "Requirement already satisfied: sympy>=1.3 in c:\\users\\stephen\\anaconda3\\lib\\site-packages (from qiskit-terra==0.22.4->qiskit) (1.10.1)\n",
      "Requirement already satisfied: six>=1.5 in c:\\users\\stephen\\anaconda3\\lib\\site-packages (from python-dateutil>=2.8.0->qiskit-ibmq-provider==0.19.2->qiskit) (1.16.0)\n",
      "Requirement already satisfied: charset-normalizer~=2.0.0 in c:\\users\\stephen\\anaconda3\\lib\\site-packages (from requests>=2.19->qiskit-ibmq-provider==0.19.2->qiskit) (2.0.4)\n",
      "Requirement already satisfied: certifi>=2017.4.17 in c:\\users\\stephen\\anaconda3\\lib\\site-packages (from requests>=2.19->qiskit-ibmq-provider==0.19.2->qiskit) (2021.10.8)\n",
      "Requirement already satisfied: idna<4,>=2.5 in c:\\users\\stephen\\anaconda3\\lib\\site-packages (from requests>=2.19->qiskit-ibmq-provider==0.19.2->qiskit) (3.3)\n",
      "Collecting ntlm-auth>=1.0.2\n",
      "  Using cached ntlm_auth-1.5.0-py2.py3-none-any.whl (29 kB)\n",
      "Requirement already satisfied: cryptography>=1.3 in c:\\users\\stephen\\anaconda3\\lib\\site-packages (from requests-ntlm>=1.1.0->qiskit-ibmq-provider==0.19.2->qiskit) (3.4.8)\n",
      "Requirement already satisfied: cffi>=1.12 in c:\\users\\stephen\\anaconda3\\lib\\site-packages (from cryptography>=1.3->requests-ntlm>=1.1.0->qiskit-ibmq-provider==0.19.2->qiskit) (1.15.0)\n",
      "Requirement already satisfied: pycparser in c:\\users\\stephen\\anaconda3\\lib\\site-packages (from cffi>=1.12->cryptography>=1.3->requests-ntlm>=1.1.0->qiskit-ibmq-provider==0.19.2->qiskit) (2.21)\n",
      "Requirement already satisfied: rustworkx==0.12.0 in c:\\users\\stephen\\anaconda3\\lib\\site-packages (from retworkx>=0.11.0->qiskit-terra==0.22.4->qiskit) (0.12.0)\n",
      "Collecting pbr!=2.1.0,>=2.0.0\n",
      "  Downloading pbr-5.11.1-py2.py3-none-any.whl (112 kB)\n",
      "Requirement already satisfied: mpmath>=0.19 in c:\\users\\stephen\\anaconda3\\lib\\site-packages (from sympy>=1.3->qiskit-terra==0.22.4->qiskit) (1.2.1)\n",
      "Building wheels for collected packages: qiskit\n",
      "  Building wheel for qiskit (setup.py): started\n",
      "  Building wheel for qiskit (setup.py): finished with status 'done'\n",
      "  Created wheel for qiskit: filename=qiskit-0.39.5-py3-none-any.whl size=12821 sha256=0d210bbd8415ee47bfe7238345f2b00726fa8dc8e11fbcb8c41deb1af2863af7\n",
      "  Stored in directory: c:\\users\\stephen\\appdata\\local\\pip\\cache\\wheels\\5f\\b4\\62\\6b6041c4072f767419b16434214f7dd444ed45982f01d97acc\n",
      "Successfully built qiskit\n",
      "Installing collected packages: pbr, tweedledum, stevedore, ply, ntlm-auth, dill, websockets, websocket-client, requests-ntlm, qiskit-terra, qiskit-ibmq-provider, qiskit-aer, qiskit\n",
      "  Attempting uninstall: websocket-client\n",
      "    Found existing installation: websocket-client 0.58.0\n",
      "    Uninstalling websocket-client-0.58.0:\n",
      "      Successfully uninstalled websocket-client-0.58.0\n",
      "Successfully installed dill-0.3.6 ntlm-auth-1.5.0 pbr-5.11.1 ply-3.11 qiskit-0.39.5 qiskit-aer-0.11.2 qiskit-ibmq-provider-0.19.2 qiskit-terra-0.22.4 requests-ntlm-1.1.0 stevedore-4.1.1 tweedledum-1.1.1 websocket-client-1.4.2 websockets-10.4\n",
      "Note: you may need to restart the kernel to use updated packages.\n"
     ]
    },
    {
     "name": "stderr",
     "output_type": "stream",
     "text": [
      "ERROR: pip's dependency resolver does not currently take into account all the packages that are installed. This behaviour is the source of the following dependency conflicts.\n",
      "jupyter-server 1.13.5 requires pywinpty<2; os_name == \"nt\", but you have pywinpty 2.0.2 which is incompatible.\n"
     ]
    }
   ],
   "source": [
    "pip install qiskit"
   ]
  },
  {
   "cell_type": "code",
   "execution_count": 5,
   "id": "82581f1a",
   "metadata": {},
   "outputs": [],
   "source": [
    "from qiskit.quantum_info import random_density_matrix,purity,concurrence"
   ]
  },
  {
   "cell_type": "code",
   "execution_count": 8,
   "id": "71c9e7ce",
   "metadata": {},
   "outputs": [
    {
     "ename": "KeyboardInterrupt",
     "evalue": "",
     "output_type": "error",
     "traceback": [
      "\u001b[1;31m---------------------------------------------------------------------------\u001b[0m",
      "\u001b[1;31mKeyboardInterrupt\u001b[0m                         Traceback (most recent call last)",
      "Input \u001b[1;32mIn [8]\u001b[0m, in \u001b[0;36m<cell line: 10>\u001b[1;34m()\u001b[0m\n\u001b[0;32m      7\u001b[0m         x \u001b[38;5;241m=\u001b[39m random_density_matrix(\u001b[38;5;241m4\u001b[39m)\n\u001b[0;32m      8\u001b[0m     \u001b[38;5;28;01mreturn\u001b[39;00m x\n\u001b[1;32m---> 10\u001b[0m \u001b[43mgen_pure_density\u001b[49m\u001b[43m(\u001b[49m\u001b[43m)\u001b[49m\n",
      "Input \u001b[1;32mIn [8]\u001b[0m, in \u001b[0;36mgen_pure_density\u001b[1;34m()\u001b[0m\n\u001b[0;32m      5\u001b[0m x \u001b[38;5;241m=\u001b[39m random_density_matrix(\u001b[38;5;241m4\u001b[39m)\n\u001b[0;32m      6\u001b[0m \u001b[38;5;28;01mwhile\u001b[39;00m \u001b[38;5;129;01mnot\u001b[39;00m \u001b[38;5;241m1\u001b[39m \u001b[38;5;241m==\u001b[39m purity(x):\n\u001b[1;32m----> 7\u001b[0m     x \u001b[38;5;241m=\u001b[39m \u001b[43mrandom_density_matrix\u001b[49m\u001b[43m(\u001b[49m\u001b[38;5;241;43m4\u001b[39;49m\u001b[43m)\u001b[49m\n\u001b[0;32m      8\u001b[0m \u001b[38;5;28;01mreturn\u001b[39;00m x\n",
      "File \u001b[1;32m~\\anaconda3\\lib\\site-packages\\qiskit\\quantum_info\\states\\random.py:82\u001b[0m, in \u001b[0;36mrandom_density_matrix\u001b[1;34m(dims, rank, method, seed)\u001b[0m\n\u001b[0;32m     79\u001b[0m     rank \u001b[38;5;241m=\u001b[39m dim  \u001b[38;5;66;03m# Use full rank\u001b[39;00m\n\u001b[0;32m     81\u001b[0m \u001b[38;5;28;01mif\u001b[39;00m method \u001b[38;5;241m==\u001b[39m \u001b[38;5;124m\"\u001b[39m\u001b[38;5;124mHilbert-Schmidt\u001b[39m\u001b[38;5;124m\"\u001b[39m:\n\u001b[1;32m---> 82\u001b[0m     rho \u001b[38;5;241m=\u001b[39m \u001b[43m_random_density_hs\u001b[49m\u001b[43m(\u001b[49m\u001b[43mdim\u001b[49m\u001b[43m,\u001b[49m\u001b[43m \u001b[49m\u001b[43mrank\u001b[49m\u001b[43m,\u001b[49m\u001b[43m \u001b[49m\u001b[43mseed\u001b[49m\u001b[43m)\u001b[49m\n\u001b[0;32m     83\u001b[0m \u001b[38;5;28;01melif\u001b[39;00m method \u001b[38;5;241m==\u001b[39m \u001b[38;5;124m\"\u001b[39m\u001b[38;5;124mBures\u001b[39m\u001b[38;5;124m\"\u001b[39m:\n\u001b[0;32m     84\u001b[0m     rho \u001b[38;5;241m=\u001b[39m _random_density_bures(dim, rank, seed)\n",
      "File \u001b[1;32m~\\anaconda3\\lib\\site-packages\\qiskit\\quantum_info\\states\\random.py:126\u001b[0m, in \u001b[0;36m_random_density_hs\u001b[1;34m(dim, rank, seed)\u001b[0m\n\u001b[0;32m    113\u001b[0m \u001b[38;5;28;01mdef\u001b[39;00m \u001b[38;5;21m_random_density_hs\u001b[39m(dim, rank, seed):\n\u001b[0;32m    114\u001b[0m     \u001b[38;5;124;03m\"\"\"\u001b[39;00m\n\u001b[0;32m    115\u001b[0m \u001b[38;5;124;03m    Generate a random density matrix from the Hilbert-Schmidt metric.\u001b[39;00m\n\u001b[0;32m    116\u001b[0m \n\u001b[1;32m   (...)\u001b[0m\n\u001b[0;32m    124\u001b[0m \u001b[38;5;124;03m        ndarray: rho (N,N)  a density matrix.\u001b[39;00m\n\u001b[0;32m    125\u001b[0m \u001b[38;5;124;03m    \"\"\"\u001b[39;00m\n\u001b[1;32m--> 126\u001b[0m     mat \u001b[38;5;241m=\u001b[39m \u001b[43m_ginibre_matrix\u001b[49m\u001b[43m(\u001b[49m\u001b[43mdim\u001b[49m\u001b[43m,\u001b[49m\u001b[43m \u001b[49m\u001b[43mrank\u001b[49m\u001b[43m,\u001b[49m\u001b[43m \u001b[49m\u001b[43mseed\u001b[49m\u001b[43m)\u001b[49m\n\u001b[0;32m    127\u001b[0m     mat \u001b[38;5;241m=\u001b[39m mat\u001b[38;5;241m.\u001b[39mdot(mat\u001b[38;5;241m.\u001b[39mconj()\u001b[38;5;241m.\u001b[39mT)\n\u001b[0;32m    128\u001b[0m     \u001b[38;5;28;01mreturn\u001b[39;00m mat \u001b[38;5;241m/\u001b[39m np\u001b[38;5;241m.\u001b[39mtrace(mat)\n",
      "File \u001b[1;32m~\\anaconda3\\lib\\site-packages\\qiskit\\quantum_info\\states\\random.py:103\u001b[0m, in \u001b[0;36m_ginibre_matrix\u001b[1;34m(nrow, ncol, seed)\u001b[0m\n\u001b[0;32m     91\u001b[0m \u001b[38;5;124;03m\"\"\"Return a normally distributed complex random matrix.\u001b[39;00m\n\u001b[0;32m     92\u001b[0m \n\u001b[0;32m     93\u001b[0m \u001b[38;5;124;03mArgs:\u001b[39;00m\n\u001b[1;32m   (...)\u001b[0m\n\u001b[0;32m    100\u001b[0m \u001b[38;5;124;03m        entry is sampled from the normal distribution.\u001b[39;00m\n\u001b[0;32m    101\u001b[0m \u001b[38;5;124;03m\"\"\"\u001b[39;00m\n\u001b[0;32m    102\u001b[0m \u001b[38;5;28;01mif\u001b[39;00m seed \u001b[38;5;129;01mis\u001b[39;00m \u001b[38;5;28;01mNone\u001b[39;00m:\n\u001b[1;32m--> 103\u001b[0m     rng \u001b[38;5;241m=\u001b[39m \u001b[43mnp\u001b[49m\u001b[38;5;241;43m.\u001b[39;49m\u001b[43mrandom\u001b[49m\u001b[38;5;241;43m.\u001b[39;49m\u001b[43mdefault_rng\u001b[49m\u001b[43m(\u001b[49m\u001b[43m)\u001b[49m\n\u001b[0;32m    104\u001b[0m \u001b[38;5;28;01melif\u001b[39;00m \u001b[38;5;28misinstance\u001b[39m(seed, np\u001b[38;5;241m.\u001b[39mrandom\u001b[38;5;241m.\u001b[39mGenerator):\n\u001b[0;32m    105\u001b[0m     rng \u001b[38;5;241m=\u001b[39m seed\n",
      "File \u001b[1;32m_generator.pyx:4655\u001b[0m, in \u001b[0;36mnumpy.random._generator.default_rng\u001b[1;34m()\u001b[0m\n",
      "File \u001b[1;32m_pcg64.pyx:121\u001b[0m, in \u001b[0;36mnumpy.random._pcg64.PCG64.__init__\u001b[1;34m()\u001b[0m\n",
      "File \u001b[1;32mbit_generator.pyx:523\u001b[0m, in \u001b[0;36mnumpy.random.bit_generator.BitGenerator.__init__\u001b[1;34m()\u001b[0m\n",
      "File \u001b[1;32mbit_generator.pyx:313\u001b[0m, in \u001b[0;36mnumpy.random.bit_generator.SeedSequence.__init__\u001b[1;34m()\u001b[0m\n",
      "File \u001b[1;32mbit_generator.pyx:398\u001b[0m, in \u001b[0;36mnumpy.random.bit_generator.SeedSequence.get_assembled_entropy\u001b[1;34m()\u001b[0m\n",
      "File \u001b[1;32m<__array_function__ internals>:5\u001b[0m, in \u001b[0;36mconcatenate\u001b[1;34m(*args, **kwargs)\u001b[0m\n",
      "\u001b[1;31mKeyboardInterrupt\u001b[0m: "
     ]
    }
   ],
   "source": [
    "x = random_density_matrix(4)\n",
    "purity(x)\n",
    "\n",
    "def gen_pure_density():\n",
    "    x = random_density_matrix(4)\n",
    "    while not 1 == purity(x):\n",
    "        x = random_density_matrix(4)\n",
    "    return x\n",
    "        \n",
    "gen_pure_density()"
   ]
  }
 ],
 "metadata": {
  "kernelspec": {
   "display_name": "Python 3 (ipykernel)",
   "language": "python",
   "name": "python3"
  },
  "language_info": {
   "codemirror_mode": {
    "name": "ipython",
    "version": 3
   },
   "file_extension": ".py",
   "mimetype": "text/x-python",
   "name": "python",
   "nbconvert_exporter": "python",
   "pygments_lexer": "ipython3",
   "version": "3.9.12"
  }
 },
 "nbformat": 4,
 "nbformat_minor": 5
}
