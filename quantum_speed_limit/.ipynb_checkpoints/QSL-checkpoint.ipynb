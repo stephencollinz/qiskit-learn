{
 "cells": [
  {
   "cell_type": "code",
   "execution_count": 80,
   "id": "b3823ab0",
   "metadata": {},
   "outputs": [],
   "source": [
    "from qiskit.quantum_info import Statevector,concurrence,DensityMatrix\n",
    "import numpy as np\n",
    "import matplotlib.pyplot as plt\n",
    "\n",
    "font = {'family': 'serif',\n",
    "    'color':  'black',\n",
    "    'weight': 'normal',\n",
    "    'size': 22,\n",
    "    }"
   ]
  },
  {
   "cell_type": "code",
   "execution_count": 13,
   "id": "2e314972",
   "metadata": {},
   "outputs": [
    {
     "data": {
      "text/plain": [
       "1.4067710924418244"
      ]
     },
     "execution_count": 13,
     "metadata": {},
     "output_type": "execute_result"
    }
   ],
   "source": [
    "def random_statevector_given_fidelity(dims, lbound,ubound, seed=None):\n",
    "    \"\"\"Generator a random Statevector.\n",
    "\n",
    "    The statevector is sampled from the uniform (Haar) measure.\n",
    "\n",
    "    Args:\n",
    "        dims (int or tuple): the dimensions of the state.\n",
    "        seed (int or np.random.Generator): Optional. Set a fixed seed or\n",
    "                                           generator for RNG.\n",
    "\n",
    "    Returns:\n",
    "        Statevector: the random statevector.\n",
    "    \"\"\"\n",
    "    if seed is None:\n",
    "        rng = np.random.default_rng()\n",
    "    elif isinstance(seed, np.random.Generator):\n",
    "        rng = seed\n",
    "    else:\n",
    "        rng = default_rng(seed)\n",
    "\n",
    "    dim = np.product(dims)\n",
    "\n",
    "    # Random array over interval (0, 1]\n",
    "    x = rng.random(dim)\n",
    "    x += x == 0\n",
    "    x = -np.log(x)\n",
    "\n",
    "    sumx = sum(x)\n",
    "    phases = rng.random(dim) * 2.0 * np.pi\n",
    "\n",
    "    y = x / sumx\n",
    "\n",
    "    rnd = np.random.uniform(low=np.sqrt(lbound), high=np.sqrt(ubound))\n",
    "\n",
    "    k = (y[3] + rnd*(y[1] + y[2] + y[3]))/(1-rnd)\n",
    "\n",
    "    sumy = sum(y)\n",
    "\n",
    "    \n",
    "    y[0] = k\n",
    "\n",
    "    z = y / sum(y)\n",
    "\n",
    "    return Statevector(np.sqrt(z) * np.exp(1j * phases), dims=dims)\n",
    "\n",
    "def check_arccos(x):\n",
    "    '''Ensure I'm getting real values for my arccos'''\n",
    "    p = abs(x[0]**2) * abs(x[3]**2)\n",
    "    s = abs(x[0]**2) + abs(x[3]**2)\n",
    "    return -1 <= -s*(1-s)/(4*p) <= 0\n",
    "\n",
    "def random_statevector2_given_fidelity(dim,lbound,ubound,conc):\n",
    "    '''generate a random state vector with a given fidelity and concurrence'''\n",
    "    r = True\n",
    "    while r:\n",
    "        x = random_statevector_given_fidelity(dim,lbound,ubound)\n",
    "        r = not (check_conc(x,conc) and check_arccos(x))\n",
    "    return x\n",
    "\n",
    "def check_conc(x,conc):\n",
    "    ''' check the concurrence of my density matrix against a desired value. Returns True if we are good'''\n",
    "    c = np.round(concurrence(DensityMatrix(x)),2)\n",
    "    return conc == c\n",
    "\n",
    "def beta(F):\n",
    "    '''beta function'''\n",
    "    return 2*np.arccos(np.sqrt(F))/np.pi\n",
    "\n",
    "def min_time_2(conc,dim,lbound,ubound):\n",
    "    #x = gen_density_matrix_bounded(conc,dim,lbound,ubound)\n",
    "    x = random_statevector2_given_fidelity(dim,lbound,ubound,conc)\n",
    "    F = (abs(x[0])**2 - abs(x[3])**2)**2\n",
    "    K = abs(x[3])**2\n",
    "    p = abs(x[0]**2) * abs(x[3]**2)\n",
    "    s = abs(x[0]**2) + abs(x[3]**2)\n",
    "    omega = np.arccos(-s*(1-s)/(4*p))\n",
    "    DE = np.sqrt((2*K) + np.sqrt(F) - F)\n",
    "\n",
    "    return 2*DE*omega/(np.pi*beta(F))\n",
    "\n",
    "def min_time_1(conc,dim,lbound,ubound):\n",
    "    #x = gen_density_matrix_bounded(conc,dim,lbound,ubound)\n",
    "    x = random_statevector2_given_fidelity(dim,lbound,ubound,conc)\n",
    "    F = (abs(x[0])**2 - abs(x[3])**2)**2\n",
    "    p = abs(x[0]**2) * abs(x[3]**2)\n",
    "    s = abs(x[0]**2) + abs(x[3]**2)\n",
    "    omega = np.arccos(-s*(1-s)/(4*p))\n",
    "    E = 1 - np.sqrt(F)\n",
    "\n",
    "    return 2*E*omega/(np.pi*(beta(F)**2))\n",
    "\n",
    "def lower_bound_1(x):\n",
    "    F = (abs(x[0])**2 - abs(x[3])**2)**2\n",
    "    p = abs(x[0]**2) * abs(x[3]**2)\n",
    "    s = abs(x[0]**2) + abs(x[3]**2)\n",
    "    omega = np.arccos(-s*(1-s)/(4*p))\n",
    "    E = 1 - np.sqrt(F)\n",
    "\n",
    "    return 2*E*omega/(np.pi*(beta(F)**2))\n",
    "\n",
    "def lower_bound_2(x):\n",
    "    F = (abs(x[0])**2 - abs(x[3])**2)**2\n",
    "    K = abs(x[3])**2\n",
    "    p = abs(x[0]**2) * abs(x[3]**2)\n",
    "    s = abs(x[0]**2) + abs(x[3]**2)\n",
    "    omega = np.arccos(-s*(1-s)/(4*p))\n",
    "    DE = np.sqrt((2*K) + np.sqrt(F) - F)\n",
    "\n",
    "    return 2*DE*omega/(np.pi*beta(F))\n",
    "\n",
    "def orthogonal_lower_bound_master(conc):\n",
    "    x = random_statevector2_given_fidelity(4,0,0,conc)\n",
    "    return lower_bound_2(x)\n",
    "\n",
    "orthogonal_lower_bound_master(0.05)\n"
   ]
  },
  {
   "cell_type": "code",
   "execution_count": 19,
   "id": "18c96b85",
   "metadata": {},
   "outputs": [
    {
     "name": "stdout",
     "output_type": "stream",
     "text": [
      "0.05\n",
      "0.060000000000000005\n",
      "0.07\n",
      "0.08000000000000002\n",
      "0.09000000000000001\n",
      "0.1\n",
      "0.11000000000000001\n",
      "0.12000000000000001\n",
      "0.13\n",
      "0.14\n",
      "0.15000000000000002\n",
      "0.16000000000000003\n",
      "0.17000000000000004\n",
      "0.18000000000000005\n",
      "0.19\n",
      "0.2\n",
      "0.21000000000000002\n",
      "0.22000000000000003\n",
      "0.23000000000000004\n",
      "0.24000000000000005\n",
      "0.25000000000000006\n",
      "0.26000000000000006\n",
      "0.27\n",
      "0.28\n",
      "0.29000000000000004\n",
      "0.30000000000000004\n",
      "0.31000000000000005\n",
      "0.32000000000000006\n",
      "0.33\n",
      "0.34\n",
      "0.35000000000000003\n",
      "0.36000000000000004\n",
      "0.37000000000000005\n",
      "0.38000000000000006\n",
      "0.39000000000000007\n",
      "0.4000000000000001\n",
      "0.4100000000000001\n",
      "0.42000000000000004\n",
      "0.43000000000000005\n",
      "0.44000000000000006\n",
      "0.45000000000000007\n",
      "0.4600000000000001\n",
      "0.4700000000000001\n",
      "0.4800000000000001\n",
      "0.49000000000000005\n",
      "0.5000000000000001\n",
      "0.5100000000000001\n",
      "0.5200000000000001\n",
      "0.5300000000000001\n",
      "0.5400000000000001\n",
      "0.5500000000000002\n",
      "0.5600000000000002\n",
      "0.5700000000000002\n",
      "0.5800000000000002\n",
      "0.5900000000000002\n",
      "0.6000000000000002\n",
      "0.6100000000000001\n",
      "0.6200000000000001\n",
      "0.6300000000000001\n",
      "0.6400000000000001\n",
      "0.6500000000000001\n",
      "0.6600000000000001\n",
      "0.6700000000000002\n",
      "0.6800000000000002\n",
      "0.6900000000000002\n",
      "0.7000000000000002\n",
      "0.7100000000000002\n",
      "0.7200000000000002\n",
      "0.7300000000000002\n",
      "0.7400000000000002\n",
      "0.7500000000000002\n",
      "0.7600000000000002\n",
      "0.7700000000000002\n",
      "0.7800000000000001\n",
      "0.7900000000000001\n",
      "0.8000000000000002\n",
      "0.8100000000000002\n",
      "0.8200000000000002\n",
      "0.8300000000000002\n",
      "0.8400000000000002\n",
      "0.8500000000000002\n",
      "0.8600000000000002\n",
      "0.8700000000000002\n",
      "0.8800000000000002\n",
      "0.8900000000000002\n",
      "0.9000000000000002\n",
      "0.9100000000000003\n",
      "0.9200000000000003\n",
      "0.9300000000000002\n",
      "0.9400000000000002\n",
      "0.9500000000000002\n",
      "0.9600000000000002\n",
      "0.9700000000000002\n",
      "0.9800000000000002\n",
      "0.9900000000000002\n"
     ]
    }
   ],
   "source": [
    "rng = np.arange(0.05,1,0.01)\n",
    "len(rng)\n",
    "shots = 5\n",
    "res_orthogonal = np.zeros((len(rng)*shots,2))\n",
    "for i in range(len(rng)):\n",
    "\n",
    "    for j in range(shots):\n",
    "\n",
    "        if j == shots -1:\n",
    "            print(rng[i])\n",
    "        a = np.round(rng[i],2)\n",
    "        res_orthogonal[(i*shots)+j][0] = a\n",
    "        res_orthogonal[(i*shots)+j][1] = orthogonal_lower_bound_master(a)\n",
    "\n",
    "#res_orthogonal"
   ]
  },
  {
   "cell_type": "code",
   "execution_count": 107,
   "id": "52d2c01a",
   "metadata": {},
   "outputs": [
    {
     "data": {
      "image/png": "[encoded data removed]",
      "text/plain": [
       "<Figure size 432x288 with 1 Axes>"
      ]
     },
     "metadata": {
      "needs_background": "light"
     },
     "output_type": "display_data"
    }
   ],
   "source": [
    "plt.scatter(res_orthogonal.T[0], res_orthogonal.T[1], s = 1)\n",
    "plt.title('Speed Limit for orthogonal states')\n",
    "plt.show()"
   ]
  },
  {
   "cell_type": "code",
   "execution_count": 25,
   "id": "be8d0ada",
   "metadata": {},
   "outputs": [
    {
     "data": {
      "text/plain": [
       "(2.0070163184553644, 1.8468090705781566)"
      ]
     },
     "execution_count": 25,
     "metadata": {},
     "output_type": "execute_result"
    }
   ],
   "source": [
    "def part_b_lower_bound_master(conc,lbound,ubound):\n",
    "    x = random_statevector2_given_fidelity(4,lbound,ubound,conc)\n",
    "    return lower_bound_1(x),lower_bound_2(x)\n",
    "\n",
    "part_b_lower_bound_master(.22,.35,.4)"
   ]
  },
  {
   "cell_type": "code",
   "execution_count": 47,
   "id": "14ebdca6",
   "metadata": {},
   "outputs": [
    {
     "name": "stdout",
     "output_type": "stream",
     "text": [
      "0.75\n",
      "0.76\n",
      "0.77\n",
      "0.78\n",
      "0.79\n",
      "0.8\n"
     ]
    }
   ],
   "source": [
    "rng = np.arange(0.75,.8,0.01)\n",
    "len(rng)\n",
    "lbound = 0.35\n",
    "ubound = .4\n",
    "shots = 50\n",
    "res_arb = np.zeros((len(rng)*shots,3))\n",
    "for i in range(len(rng)):\n",
    "\n",
    "    for j in range(shots):\n",
    "\n",
    "        if j == shots -1:\n",
    "            print(rng[i])\n",
    "        a = np.round(rng[i],2)\n",
    "        res_arb[(i*shots)+j][0] = a\n",
    "        b = part_b_lower_bound_master(a,lbound,ubound)\n",
    "        res_arb[(i*shots)+j][1] = b[0]\n",
    "        res_arb[(i*shots)+j][2] = b[1]"
   ]
  },
  {
   "cell_type": "code",
   "execution_count": 109,
   "id": "82ca5ea7",
   "metadata": {},
   "outputs": [
    {
     "data": {
      "image/png": "[encoded data removed]",
      "text/plain": [
       "<Figure size 720x504 with 1 Axes>"
      ]
     },
     "metadata": {
      "needs_background": "light"
     },
     "output_type": "display_data"
    }
   ],
   "source": [
    "plt.figure(figsize = (10.0,7.0))\n",
    "plt.scatter(res_arb.T[0], res_arb.T[1], s = .5)\n",
    "plt.scatter(res_arb.T[0], res_arb.T[2], s = .5)\n",
    "plt.xlim(0,1)\n",
    "plt.ylim(1,2)\n",
    "#plt.plot([1.091,1.091])\n",
    "#plt.plot([1.351,1.351])\n",
    "#plt.plot([1,2],(0.8,.8))\n",
    "plt.axvline(x=0.8,color = 'black')\n",
    "plt.axhline(y=1.351)\n",
    "plt.axhline(y=1.091,color='orange')\n",
    "#plt.annotate('P1', xy=(.8,1.351), textcoords='data') \n",
    "\n",
    "plt.xlabel('C', fontdict = font)\n",
    "plt.ylabel('$\\\\tau$/${T_Lbound}$', fontdict = font)\n",
    "plt.title('Speed Limit for arbitrary states', fontdict = font)\n",
    "plt.show()"
   ]
  },
  {
   "cell_type": "code",
   "execution_count": 49,
   "id": "0abc3704",
   "metadata": {},
   "outputs": [
    {
     "ename": "NameError",
     "evalue": "name 'rcParams' is not defined",
     "output_type": "error",
     "traceback": [
      "\u001b[1;31m---------------------------------------------------------------------------\u001b[0m",
      "\u001b[1;31mNameError\u001b[0m                                 Traceback (most recent call last)",
      "Input \u001b[1;32mIn [49]\u001b[0m, in \u001b[0;36m<cell line: 1>\u001b[1;34m()\u001b[0m\n\u001b[1;32m----> 1\u001b[0m \u001b[43mrcParams\u001b[49m[\u001b[38;5;124m'\u001b[39m\u001b[38;5;124mlines.markersize\u001b[39m\u001b[38;5;124m'\u001b[39m] \u001b[38;5;241m*\u001b[39m\u001b[38;5;241m*\u001b[39m \u001b[38;5;241m2\u001b[39m\n",
      "\u001b[1;31mNameError\u001b[0m: name 'rcParams' is not defined"
     ]
    }
   ],
   "source": []
  }
 ],
 "metadata": {
  "kernelspec": {
   "display_name": "Python 3 (ipykernel)",
   "language": "python",
   "name": "python3"
  },
  "language_info": {
   "codemirror_mode": {
    "name": "ipython",
    "version": 3
   },
   "file_extension": ".py",
   "mimetype": "text/x-python",
   "name": "python",
   "nbconvert_exporter": "python",
   "pygments_lexer": "ipython3",
   "version": "3.9.12"
  }
 },
 "nbformat": 4,
 "nbformat_minor": 5
}
